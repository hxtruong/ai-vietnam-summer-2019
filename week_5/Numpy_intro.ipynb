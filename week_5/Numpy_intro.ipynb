{
  "nbformat": 4,
  "nbformat_minor": 0,
  "metadata": {
    "colab": {
      "name": "Numpy_intro.ipynb",
      "version": "0.3.2",
      "provenance": [],
      "collapsed_sections": [],
      "include_colab_link": true
    },
    "kernelspec": {
      "name": "python3",
      "display_name": "Python 3"
    }
  },
  "cells": [
    {
      "cell_type": "markdown",
      "metadata": {
        "id": "view-in-github",
        "colab_type": "text"
      },
      "source": [
        "<a href=\"https://colab.research.google.com/github/hxtruong/ai-vietnam-summer-2019/blob/master/week_5/Numpy_intro.ipynb\" target=\"_parent\"><img src=\"https://colab.research.google.com/assets/colab-badge.svg\" alt=\"Open In Colab\"/></a>"
      ]
    },
    {
      "cell_type": "markdown",
      "metadata": {
        "id": "aLPQdioxTaUG",
        "colab_type": "text"
      },
      "source": [
        "**Numpy** is library of python to support in calculate on array, vector or matrix\n",
        "\n",
        "> **Ref:** https://aivietnam.ai/courses/aisummer2019/lessons/gioi-thieu-ve-numpy/\n"
      ]
    },
    {
      "cell_type": "code",
      "metadata": {
        "id": "7aWW4ZN_NkgR",
        "colab_type": "code",
        "outputId": "3019c80d-de2a-4199-f8ca-fc4f2276b974",
        "colab": {
          "base_uri": "https://localhost:8080/",
          "height": 70
        }
      },
      "source": [
        "import numpy as np\n",
        "# create array\n",
        "l = list(range(1,5))\n",
        "# create nd-array\n",
        "data = np.array(l)\n",
        "\n",
        "print(data)\n",
        "print(data[0])\n",
        "print(data[3])"
      ],
      "execution_count": 0,
      "outputs": [
        {
          "output_type": "stream",
          "text": [
            "[1 2 3 4]\n",
            "1\n",
            "4\n"
          ],
          "name": "stdout"
        }
      ]
    },
    {
      "cell_type": "markdown",
      "metadata": {
        "id": "3pvk6xxIS2wi",
        "colab_type": "text"
      },
      "source": [
        "![result](https://raw.githubusercontent.com/hxtruong/ai-vietnam-summer-2019/master/week_5/chap5_np_1.png)"
      ]
    },
    {
      "cell_type": "code",
      "metadata": {
        "id": "UENaEjmDXkr6",
        "colab_type": "code",
        "outputId": "7c909e3d-dcbc-48b9-f211-714929669a09",
        "colab": {
          "base_uri": "https://localhost:8080/",
          "height": 70
        }
      },
      "source": [
        "print(type(data))\n",
        "print(type(data[[0]]))\n",
        "print(data.shape)"
      ],
      "execution_count": 0,
      "outputs": [
        {
          "output_type": "stream",
          "text": [
            "<class 'numpy.ndarray'>\n",
            "<class 'numpy.ndarray'>\n",
            "(4,)\n"
          ],
          "name": "stdout"
        }
      ]
    },
    {
      "cell_type": "code",
      "metadata": {
        "id": "GT-ez8UbZJ3s",
        "colab_type": "code",
        "outputId": "d58eb058-a3d2-4d9b-d0c6-93390c58b192",
        "colab": {
          "base_uri": "https://localhost:8080/",
          "height": 123
        }
      },
      "source": [
        "# Change shape of array\n",
        "arr1 = np.arange(12)\n",
        "print(arr1)\n",
        "print(arr1.shape)\n",
        "\n",
        "arr2 = arr1.reshape((3,4))\n",
        "print(arr2)\n",
        "print(arr2.shape)"
      ],
      "execution_count": 0,
      "outputs": [
        {
          "output_type": "stream",
          "text": [
            "[ 0  1  2  3  4  5  6  7  8  9 10 11]\n",
            "(12,)\n",
            "[[ 0  1  2  3]\n",
            " [ 4  5  6  7]\n",
            " [ 8  9 10 11]]\n",
            "(3, 4)\n"
          ],
          "name": "stdout"
        }
      ]
    },
    {
      "cell_type": "code",
      "metadata": {
        "id": "hMw6utKLazZh",
        "colab_type": "code",
        "outputId": "f619d759-f9c1-4814-9f0e-95e92d72346e",
        "colab": {
          "base_uri": "https://localhost:8080/",
          "height": 70
        }
      },
      "source": [
        "# type of data\n",
        "print(arr1.dtype)\n",
        "arr3 = np.array([2.3, 5.2])\n",
        "print(arr3)\n",
        "print(arr3.dtype)"
      ],
      "execution_count": 0,
      "outputs": [
        {
          "output_type": "stream",
          "text": [
            "int64\n",
            "[2.3 5.2]\n",
            "float64\n"
          ],
          "name": "stdout"
        }
      ]
    },
    {
      "cell_type": "code",
      "metadata": {
        "id": "6IRo6WbrbaI4",
        "colab_type": "code",
        "outputId": "679eea6b-12f1-4840-a4f8-03889d76e74f",
        "colab": {
          "base_uri": "https://localhost:8080/",
          "height": 70
        }
      },
      "source": [
        "# assign data for array\n",
        "arr4 = np.arange(15)\n",
        "print(arr4)\n",
        "arr4[9] = 99999\n",
        "print(arr4)"
      ],
      "execution_count": 0,
      "outputs": [
        {
          "output_type": "stream",
          "text": [
            "[ 0  1  2  3  4  5  6  7  8  9 10 11 12 13 14]\n",
            "[    0     1     2     3     4     5     6     7     8 99999    10    11\n",
            "    12    13    14]\n"
          ],
          "name": "stdout"
        }
      ]
    },
    {
      "cell_type": "code",
      "metadata": {
        "id": "EOZcSgEPcCUH",
        "colab_type": "code",
        "outputId": "6cd5c805-161a-445b-abd2-a576e069b9ef",
        "colab": {
          "base_uri": "https://localhost:8080/",
          "height": 283
        }
      },
      "source": [
        "arr5 = np.zeros((4,5))\n",
        "print(arr5)\n",
        "arr6 = np.ones((3,4))\n",
        "print(arr6)\n",
        "arr7 = np.full((2,3), 33)\n",
        "print(arr7)\n",
        "arr8 = np.eye(4)\n",
        "print(arr8)\n",
        "print(np.random.random((2,3)))"
      ],
      "execution_count": 0,
      "outputs": [
        {
          "output_type": "stream",
          "text": [
            "[[0. 0. 0. 0. 0.]\n",
            " [0. 0. 0. 0. 0.]\n",
            " [0. 0. 0. 0. 0.]\n",
            " [0. 0. 0. 0. 0.]]\n",
            "[[1. 1. 1. 1.]\n",
            " [1. 1. 1. 1.]\n",
            " [1. 1. 1. 1.]]\n",
            "[[33 33 33]\n",
            " [33 33 33]]\n",
            "[[1. 0. 0. 0.]\n",
            " [0. 1. 0. 0.]\n",
            " [0. 0. 1. 0.]\n",
            " [0. 0. 0. 1.]]\n",
            "[[0.54022669 0.11788345 0.07432315]\n",
            " [0.97978526 0.09068111 0.60444076]]\n"
          ],
          "name": "stdout"
        }
      ]
    },
    {
      "cell_type": "code",
      "metadata": {
        "id": "wBSbSQ02dCk-",
        "colab_type": "code",
        "outputId": "07708556-933c-49d8-80d4-5e9c2d7ed8f7",
        "colab": {
          "base_uri": "https://localhost:8080/",
          "height": 34
        }
      },
      "source": [
        "# condition for array\n",
        "arr = np.arange(10)\n",
        "out = np.where(arr < 5, arr, 10*arr)\n",
        "print(out)"
      ],
      "execution_count": 0,
      "outputs": [
        {
          "output_type": "stream",
          "text": [
            "[ 0  1  2  3  4 50 60 70 80 90]\n"
          ],
          "name": "stdout"
        }
      ]
    },
    {
      "cell_type": "code",
      "metadata": {
        "id": "kzeAUOXNdeB0",
        "colab_type": "code",
        "outputId": "b7e4911b-4409-4365-9872-ae3b7dfb4eab",
        "colab": {
          "base_uri": "https://localhost:8080/",
          "height": 70
        }
      },
      "source": [
        "# flat array to 1-D array\n",
        "arr = np.array([[4,5], [2,3]])\n",
        "out = arr.flatten()\n",
        "print(arr)\n",
        "print(out)"
      ],
      "execution_count": 0,
      "outputs": [
        {
          "output_type": "stream",
          "text": [
            "[[4 5]\n",
            " [2 3]]\n",
            "[4 5 2 3]\n"
          ],
          "name": "stdout"
        }
      ]
    },
    {
      "cell_type": "code",
      "metadata": {
        "id": "qVC_KvvHhAMD",
        "colab_type": "code",
        "outputId": "b7a6cf9a-55ba-4544-8086-49b36c16d472",
        "colab": {
          "base_uri": "https://localhost:8080/",
          "height": 105
        }
      },
      "source": [
        "# Slice 2D- array\n",
        "a_arr = np.array([[1,2,3],[4,5,6]])\n",
        "print(a_arr)\n",
        "print(\"-----------\")\n",
        "# Slice 2d array like 1d array\n",
        "b_arr = a_arr[:, 1:3]\n",
        "print(b_arr)\n"
      ],
      "execution_count": 0,
      "outputs": [
        {
          "output_type": "stream",
          "text": [
            "[[1 2 3]\n",
            " [4 5 6]]\n",
            "-----------\n",
            "[[2 3]\n",
            " [5 6]]\n"
          ],
          "name": "stdout"
        }
      ]
    },
    {
      "cell_type": "markdown",
      "metadata": {
        "id": "2Q0bEIsQiNLB",
        "colab_type": "text"
      },
      "source": [
        "![alt text](https://raw.githubusercontent.com/hxtruong/ai-vietnam-summer-2019/master/week_5/chap5_np_9.png)"
      ]
    },
    {
      "cell_type": "markdown",
      "metadata": {
        "id": "R31YJJC8ilB-",
        "colab_type": "text"
      },
      "source": [
        "> The sliced array has same address with the original array. So, if one array is changed value, the other value array will be modified"
      ]
    },
    {
      "cell_type": "code",
      "metadata": {
        "id": "A6IIN9NRikON",
        "colab_type": "code",
        "outputId": "fc98f876-b2ce-4cc6-e217-a366615065a4",
        "colab": {
          "base_uri": "https://localhost:8080/",
          "height": 70
        }
      },
      "source": [
        "arr = np.array([[1,2,3],[4,5,6],[7,8,9]])\n",
        "# decrease dimension\n",
        "row_r1 = arr[1, :]\n",
        "print(row_r1, row_r1.shape)\n",
        "\n",
        "# keep the dimension\n",
        "row_r2 = arr[1:2, :]\n",
        "print(row_r2, row_r2.shape)"
      ],
      "execution_count": 0,
      "outputs": [
        {
          "output_type": "stream",
          "text": [
            "[4 5 6] (3,)\n",
            "[[4 5 6]] (1, 3)\n",
            "[6 7 8 9]\n"
          ],
          "name": "stdout"
        }
      ]
    },
    {
      "cell_type": "code",
      "metadata": {
        "id": "px-ctVd1iQI6",
        "colab_type": "code",
        "outputId": "259f6414-99d8-4763-e325-b37c4815a83f",
        "colab": {
          "base_uri": "https://localhost:8080/",
          "height": 158
        }
      },
      "source": [
        "print(arr)\n",
        "bool_idx = arr > 5\n",
        "print(\"Check element is greater 5: \")\n",
        "print(bool_idx)\n",
        "print(arr[bool_idx])"
      ],
      "execution_count": 0,
      "outputs": [
        {
          "output_type": "stream",
          "text": [
            "[[1 2 3]\n",
            " [4 5 6]\n",
            " [7 8 9]]\n",
            "Check element is greater 5: \n",
            "[[False False False]\n",
            " [False False  True]\n",
            " [ True  True  True]]\n",
            "[6 7 8 9]\n"
          ],
          "name": "stdout"
        }
      ]
    },
    {
      "cell_type": "markdown",
      "metadata": {
        "id": "9rAwo-m6OAZg",
        "colab_type": "text"
      },
      "source": [
        "### Operation on array"
      ]
    },
    {
      "cell_type": "code",
      "metadata": {
        "id": "hl2HRMJ4N_YX",
        "colab_type": "code",
        "outputId": "420e7ab1-9034-41f0-89a5-4b74ebe220f8",
        "colab": {
          "base_uri": "https://localhost:8080/",
          "height": 105
        }
      },
      "source": [
        "x = np.array([10,2,13,4], dtype=np.float64)\n",
        "y = np.array([5,36,7,18], dtype=np.float64)\n",
        "print(\"X: \", x)\n",
        "print(\"Y: \", y)\n",
        "# Sum of 2 arrays\n",
        "print(\"Sum of 2 array: \")\n",
        "print(x+y)\n",
        "print(np.add(x,y))"
      ],
      "execution_count": 0,
      "outputs": [
        {
          "output_type": "stream",
          "text": [
            "X:  [10.  2. 13.  4.]\n",
            "Y:  [ 5. 36.  7. 18.]\n",
            "Sum of 2 array: \n",
            "[15. 38. 20. 22.]\n",
            "[15. 38. 20. 22.]\n"
          ],
          "name": "stdout"
        }
      ]
    },
    {
      "cell_type": "code",
      "metadata": {
        "id": "J9CH3t5HPWsN",
        "colab_type": "code",
        "outputId": "5a9e8823-02d2-476c-b17f-df5c2a74ceb1",
        "colab": {
          "base_uri": "https://localhost:8080/",
          "height": 70
        }
      },
      "source": [
        "print(\"Subtract two array: \")\n",
        "print(x-y)\n",
        "print(np.subtract(x,y))"
      ],
      "execution_count": 0,
      "outputs": [
        {
          "output_type": "stream",
          "text": [
            "Subtract two array: \n",
            "[  5. -34.   6. -14.]\n",
            "[  5. -34.   6. -14.]\n"
          ],
          "name": "stdout"
        }
      ]
    },
    {
      "cell_type": "code",
      "metadata": {
        "id": "DV-9n5pPPtpX",
        "colab_type": "code",
        "outputId": "62d2cb61-974c-4b1f-8736-f4544ce459fe",
        "colab": {
          "base_uri": "https://localhost:8080/",
          "height": 70
        }
      },
      "source": [
        "print(\"Multiple 2 array: \")\n",
        "print(x*y)\n",
        "print(np.multiply(x,y))"
      ],
      "execution_count": 0,
      "outputs": [
        {
          "output_type": "stream",
          "text": [
            "Multiple 2 array: \n",
            "[50. 72. 91. 72.]\n",
            "[50. 72. 91. 72.]\n"
          ],
          "name": "stdout"
        }
      ]
    },
    {
      "cell_type": "code",
      "metadata": {
        "id": "Iw3J7RWqP-00",
        "colab_type": "code",
        "outputId": "71b90396-2113-4115-96c8-d76bbcc45595",
        "colab": {
          "base_uri": "https://localhost:8080/",
          "height": 70
        }
      },
      "source": [
        "print(\"Divide two array: \")\n",
        "print(x/y)\n",
        "print(np.divide(x,y))"
      ],
      "execution_count": 0,
      "outputs": [
        {
          "output_type": "stream",
          "text": [
            "Divide two array: \n",
            "[2.         0.05555556 1.85714286 0.22222222]\n",
            "[2.         0.05555556 1.85714286 0.22222222]\n"
          ],
          "name": "stdout"
        }
      ]
    },
    {
      "cell_type": "code",
      "metadata": {
        "id": "FMAcUQWKQPh7",
        "colab_type": "code",
        "outputId": "0ff312e4-fe49-4547-c95e-54e8080b8a7d",
        "colab": {
          "base_uri": "https://localhost:8080/",
          "height": 70
        }
      },
      "source": [
        "print(\"X: \", x)\n",
        "print(\"Trunc of element in array: \")\n",
        "print(np.sqrt(x))"
      ],
      "execution_count": 0,
      "outputs": [
        {
          "output_type": "stream",
          "text": [
            "X:  [10.  2. 13.  4.]\n",
            "Trunc of element in array: \n",
            "[3.16227766 1.41421356 3.60555128 2.        ]\n"
          ],
          "name": "stdout"
        }
      ]
    },
    {
      "cell_type": "markdown",
      "metadata": {
        "id": "0i7T4OswRczy",
        "colab_type": "text"
      },
      "source": [
        "#### Vector & matrix"
      ]
    },
    {
      "cell_type": "code",
      "metadata": {
        "id": "TuWX3gFSRpRL",
        "colab_type": "code",
        "colab": {}
      },
      "source": [
        "v = np.array([3,2])\n",
        "w = np.array([5,8])\n",
        "X = np.array([[1,2],[10,2]])"
      ],
      "execution_count": 0,
      "outputs": []
    },
    {
      "cell_type": "code",
      "metadata": {
        "id": "6kKQZPLzQfW4",
        "colab_type": "code",
        "outputId": "5fdad850-f45c-40f3-cd0b-a32664c56ef5",
        "colab": {
          "base_uri": "https://localhost:8080/",
          "height": 70
        }
      },
      "source": [
        "print(\"Inner product between 2 vector: \")\n",
        "print(v.dot(w))\n",
        "print(np.dot(v,w))"
      ],
      "execution_count": 0,
      "outputs": [
        {
          "output_type": "stream",
          "text": [
            "Inner product between 2 vector: \n",
            "31\n",
            "31\n"
          ],
          "name": "stdout"
        }
      ]
    },
    {
      "cell_type": "code",
      "metadata": {
        "id": "PUZ4s7THSD_A",
        "colab_type": "code",
        "outputId": "72f378ee-5893-464a-f38c-82d4233cd075",
        "colab": {
          "base_uri": "https://localhost:8080/",
          "height": 141
        }
      },
      "source": [
        "# Multiply vector & matrix\n",
        "print(\"v: \", v)\n",
        "print(\"X: \\n\", X)\n",
        "print(\"------------------------------\")\n",
        "print(\"X.dot(v): \", X.dot(v))\n",
        "print(\"v.dot(X): \", v.dot(X))"
      ],
      "execution_count": 0,
      "outputs": [
        {
          "output_type": "stream",
          "text": [
            "v:  [3 2]\n",
            "X: \n",
            " [[ 1  2]\n",
            " [10  2]]\n",
            "------------------------------\n",
            "X.dot(v):  [ 7 34]\n",
            "v.dot(X):  [23 10]\n"
          ],
          "name": "stdout"
        }
      ]
    },
    {
      "cell_type": "code",
      "metadata": {
        "id": "EpCeens6S9Me",
        "colab_type": "code",
        "outputId": "e7b548b5-d38c-473b-9e29-9eca0cf2a337",
        "colab": {
          "base_uri": "https://localhost:8080/",
          "height": 247
        }
      },
      "source": [
        "# Multiply 2 matrix\n",
        "Y = np.array([[1,3], [4,2]])\n",
        "print(\"X: \\n\", X)\n",
        "print(\"Y: \\n\", Y)\n",
        "print(\"------------------------------\")\n",
        "print(\"X.dot(Y): \\n\", X.dot(Y))\n",
        "print(\"Y.dot(X): \\n\", Y.dot(X))"
      ],
      "execution_count": 0,
      "outputs": [
        {
          "output_type": "stream",
          "text": [
            "X: \n",
            " [[ 1  2]\n",
            " [10  2]]\n",
            "Y: \n",
            " [[1 3]\n",
            " [4 2]]\n",
            "------------------------------\n",
            "X.dot(Y): \n",
            " [[ 9  7]\n",
            " [18 34]]\n",
            "Y.dot(X): \n",
            " [[31  8]\n",
            " [24 12]]\n"
          ],
          "name": "stdout"
        }
      ]
    },
    {
      "cell_type": "markdown",
      "metadata": {
        "id": "sUDwaPWhWkTW",
        "colab_type": "text"
      },
      "source": [
        "#### Sum of array"
      ]
    },
    {
      "cell_type": "code",
      "metadata": {
        "id": "v3gfXweTWhB-",
        "colab_type": "code",
        "outputId": "d5a2aae5-49fd-409f-dddc-1771e9c59878",
        "colab": {
          "base_uri": "https://localhost:8080/",
          "height": 158
        }
      },
      "source": [
        "# Sum\n",
        "print(\"X: \", X)\n",
        "print(\"Sum: \\n\", np.sum(X))\n",
        "print(\"Sum row: \\n\", np.sum(X, axis=1))\n",
        "print(\"Sum columns: \\n\", np.sum(X, axis=0))"
      ],
      "execution_count": 0,
      "outputs": [
        {
          "output_type": "stream",
          "text": [
            "X:  [[ 1  2]\n",
            " [10  2]]\n",
            "Sum: \n",
            " 15\n",
            "Sum rows: \n",
            " [ 3 12]\n",
            "Sum columns: \n",
            " [11  4]\n"
          ],
          "name": "stdout"
        }
      ]
    },
    {
      "cell_type": "markdown",
      "metadata": {
        "id": "uzdFaDclXbBd",
        "colab_type": "text"
      },
      "source": [
        "#### Transposaed matrix"
      ]
    },
    {
      "cell_type": "code",
      "metadata": {
        "id": "afCOpipJTW8b",
        "colab_type": "code",
        "outputId": "6fb94b66-8b9b-498b-9501-ba9d23e4ac77",
        "colab": {
          "base_uri": "https://localhost:8080/",
          "height": 123
        }
      },
      "source": [
        "print(\"X: \\n\", X)\n",
        "print(\"=> X.T: \\n\", X.T)"
      ],
      "execution_count": 0,
      "outputs": [
        {
          "output_type": "stream",
          "text": [
            "X: \n",
            " [[ 1  2]\n",
            " [10  2]]\n",
            "=> X.T: \n",
            " [[ 1 10]\n",
            " [ 2  2]]\n"
          ],
          "name": "stdout"
        }
      ]
    },
    {
      "cell_type": "markdown",
      "metadata": {
        "id": "XREiiRrRX_il",
        "colab_type": "text"
      },
      "source": [
        "#### Broadcasting"
      ]
    },
    {
      "cell_type": "code",
      "metadata": {
        "id": "23Bq76msX-jg",
        "colab_type": "code",
        "outputId": "dd6f3312-8f11-4c1e-9150-ae62e418f9ab",
        "colab": {
          "base_uri": "https://localhost:8080/",
          "height": 87
        }
      },
      "source": [
        "X = np.arange(1,13)\n",
        "X = np.reshape(X, (4,3))\n",
        "X"
      ],
      "execution_count": 0,
      "outputs": [
        {
          "output_type": "execute_result",
          "data": {
            "text/plain": [
              "array([[ 1,  2,  3],\n",
              "       [ 4,  5,  6],\n",
              "       [ 7,  8,  9],\n",
              "       [10, 11, 12]])"
            ]
          },
          "metadata": {
            "tags": []
          },
          "execution_count": 82
        }
      ]
    },
    {
      "cell_type": "code",
      "metadata": {
        "id": "qTAvuY-qYoLr",
        "colab_type": "code",
        "colab": {}
      },
      "source": [
        "v = np.array([1,0,1])"
      ],
      "execution_count": 0,
      "outputs": []
    },
    {
      "cell_type": "markdown",
      "metadata": {
        "id": "xw4jFLr-ZV2i",
        "colab_type": "text"
      },
      "source": [
        "Problem is how to adding two array which on array has different size( dimension). \n",
        "> Solution: make the less size array become the same size like the other one. Then adding two array."
      ]
    },
    {
      "cell_type": "code",
      "metadata": {
        "id": "0ubFvmgpZT-U",
        "colab_type": "code",
        "outputId": "d8e0107d-6dfc-477a-f46d-52a4dec96d52",
        "colab": {
          "base_uri": "https://localhost:8080/",
          "height": 87
        }
      },
      "source": [
        "V_t = np.tile(v, (4,1))\n",
        "V_t"
      ],
      "execution_count": 0,
      "outputs": [
        {
          "output_type": "execute_result",
          "data": {
            "text/plain": [
              "array([[1, 0, 1],\n",
              "       [1, 0, 1],\n",
              "       [1, 0, 1],\n",
              "       [1, 0, 1]])"
            ]
          },
          "metadata": {
            "tags": []
          },
          "execution_count": 80
        }
      ]
    },
    {
      "cell_type": "code",
      "metadata": {
        "id": "Dx_37IxiaCnL",
        "colab_type": "code",
        "outputId": "116077e7-9d1e-4e56-9f9f-4eb2f49e95b8",
        "colab": {
          "base_uri": "https://localhost:8080/",
          "height": 87
        }
      },
      "source": [
        "# Calculate sum\n",
        "X + V_t"
      ],
      "execution_count": 0,
      "outputs": [
        {
          "output_type": "execute_result",
          "data": {
            "text/plain": [
              "array([[ 2,  2,  4],\n",
              "       [ 5,  5,  7],\n",
              "       [ 8,  8, 10],\n",
              "       [11, 11, 13]])"
            ]
          },
          "metadata": {
            "tags": []
          },
          "execution_count": 83
        }
      ]
    },
    {
      "cell_type": "code",
      "metadata": {
        "id": "fXx8xK0eaP6Y",
        "colab_type": "code",
        "outputId": "5a368f62-9e79-4909-8f86-a7166efa8dbd",
        "colab": {
          "base_uri": "https://localhost:8080/",
          "height": 87
        }
      },
      "source": [
        "# In numpy, is will auto calculate: \n",
        "X + v"
      ],
      "execution_count": 0,
      "outputs": [
        {
          "output_type": "execute_result",
          "data": {
            "text/plain": [
              "array([[ 2,  2,  4],\n",
              "       [ 5,  5,  7],\n",
              "       [ 8,  8, 10],\n",
              "       [11, 11, 13]])"
            ]
          },
          "metadata": {
            "tags": []
          },
          "execution_count": 85
        }
      ]
    },
    {
      "cell_type": "markdown",
      "metadata": {
        "id": "1N692aAFabtd",
        "colab_type": "text"
      },
      "source": [
        "It is called **broadcasting**![alt text](https://raw.githubusercontent.com/hxtruong/ai-vietnam-summer-2019/master/week_5/chap5_np_32-768x608.png)"
      ]
    }
  ]
}