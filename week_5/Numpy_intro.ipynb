{
  "nbformat": 4,
  "nbformat_minor": 0,
  "metadata": {
    "colab": {
      "name": "Numpy-intro",
      "version": "0.3.2",
      "provenance": [],
      "collapsed_sections": [],
      "include_colab_link": true
    },
    "kernelspec": {
      "name": "python3",
      "display_name": "Python 3"
    }
  },
  "cells": [
    {
      "cell_type": "markdown",
      "metadata": {
        "id": "view-in-github",
        "colab_type": "text"
      },
      "source": [
        "<a href=\"https://colab.research.google.com/github/hxtruong/ai-vietnam-summer-2019/blob/master/week_5/Numpy_intro.ipynb\" target=\"_parent\"><img src=\"https://colab.research.google.com/assets/colab-badge.svg\" alt=\"Open In Colab\"/></a>"
      ]
    },
    {
      "cell_type": "code",
      "metadata": {
        "id": "7aWW4ZN_NkgR",
        "colab_type": "code",
        "colab": {
          "base_uri": "https://localhost:8080/",
          "height": 70
        },
        "outputId": "3019c80d-de2a-4199-f8ca-fc4f2276b974"
      },
      "source": [
        "import numpy as np\n",
        "# create array\n",
        "l = list(range(1,5))\n",
        "# create nd-array\n",
        "data = np.array(l)\n",
        "\n",
        "print(data)\n",
        "print(data[0])\n",
        "print(data[3])"
      ],
      "execution_count": 4,
      "outputs": [
        {
          "output_type": "stream",
          "text": [
            "[1 2 3 4]\n",
            "1\n",
            "4\n"
          ],
          "name": "stdout"
        }
      ]
    },
    {
      "cell_type": "markdown",
      "metadata": {
        "id": "3pvk6xxIS2wi",
        "colab_type": "text"
      },
      "source": [
        "![result](https://raw.githubusercontent.com/hxtruong/ai-vietnam-summer-2019/master/week_5/chap5_np_1.png)"
      ]
    },
    {
      "cell_type": "code",
      "metadata": {
        "id": "UENaEjmDXkr6",
        "colab_type": "code",
        "colab": {
          "base_uri": "https://localhost:8080/",
          "height": 70
        },
        "outputId": "7c909e3d-dcbc-48b9-f211-714929669a09"
      },
      "source": [
        "print(type(data))\n",
        "print(type(data[[0]]))\n",
        "print(data.shape)"
      ],
      "execution_count": 6,
      "outputs": [
        {
          "output_type": "stream",
          "text": [
            "<class 'numpy.ndarray'>\n",
            "<class 'numpy.ndarray'>\n",
            "(4,)\n"
          ],
          "name": "stdout"
        }
      ]
    },
    {
      "cell_type": "code",
      "metadata": {
        "id": "GT-ez8UbZJ3s",
        "colab_type": "code",
        "colab": {
          "base_uri": "https://localhost:8080/",
          "height": 123
        },
        "outputId": "d58eb058-a3d2-4d9b-d0c6-93390c58b192"
      },
      "source": [
        "# Change shape of array\n",
        "arr1 = np.arange(12)\n",
        "print(arr1)\n",
        "print(arr1.shape)\n",
        "\n",
        "arr2 = arr1.reshape((3,4))\n",
        "print(arr2)\n",
        "print(arr2.shape)"
      ],
      "execution_count": 15,
      "outputs": [
        {
          "output_type": "stream",
          "text": [
            "[ 0  1  2  3  4  5  6  7  8  9 10 11]\n",
            "(12,)\n",
            "[[ 0  1  2  3]\n",
            " [ 4  5  6  7]\n",
            " [ 8  9 10 11]]\n",
            "(3, 4)\n"
          ],
          "name": "stdout"
        }
      ]
    },
    {
      "cell_type": "code",
      "metadata": {
        "id": "hMw6utKLazZh",
        "colab_type": "code",
        "colab": {
          "base_uri": "https://localhost:8080/",
          "height": 70
        },
        "outputId": "f619d759-f9c1-4814-9f0e-95e92d72346e"
      },
      "source": [
        "# type of data\n",
        "print(arr1.dtype)\n",
        "arr3 = np.array([2.3, 5.2])\n",
        "print(arr3)\n",
        "print(arr3.dtype)"
      ],
      "execution_count": 18,
      "outputs": [
        {
          "output_type": "stream",
          "text": [
            "int64\n",
            "[2.3 5.2]\n",
            "float64\n"
          ],
          "name": "stdout"
        }
      ]
    },
    {
      "cell_type": "code",
      "metadata": {
        "id": "6IRo6WbrbaI4",
        "colab_type": "code",
        "colab": {
          "base_uri": "https://localhost:8080/",
          "height": 70
        },
        "outputId": "679eea6b-12f1-4840-a4f8-03889d76e74f"
      },
      "source": [
        "# assign data for array\n",
        "arr4 = np.arange(15)\n",
        "print(arr4)\n",
        "arr4[9] = 99999\n",
        "print(arr4)"
      ],
      "execution_count": 21,
      "outputs": [
        {
          "output_type": "stream",
          "text": [
            "[ 0  1  2  3  4  5  6  7  8  9 10 11 12 13 14]\n",
            "[    0     1     2     3     4     5     6     7     8 99999    10    11\n",
            "    12    13    14]\n"
          ],
          "name": "stdout"
        }
      ]
    },
    {
      "cell_type": "code",
      "metadata": {
        "id": "EOZcSgEPcCUH",
        "colab_type": "code",
        "colab": {
          "base_uri": "https://localhost:8080/",
          "height": 283
        },
        "outputId": "6cd5c805-161a-445b-abd2-a576e069b9ef"
      },
      "source": [
        "arr5 = np.zeros((4,5))\n",
        "print(arr5)\n",
        "arr6 = np.ones((3,4))\n",
        "print(arr6)\n",
        "arr7 = np.full((2,3), 33)\n",
        "print(arr7)\n",
        "arr8 = np.eye(4)\n",
        "print(arr8)\n",
        "print(np.random.random((2,3)))"
      ],
      "execution_count": 31,
      "outputs": [
        {
          "output_type": "stream",
          "text": [
            "[[0. 0. 0. 0. 0.]\n",
            " [0. 0. 0. 0. 0.]\n",
            " [0. 0. 0. 0. 0.]\n",
            " [0. 0. 0. 0. 0.]]\n",
            "[[1. 1. 1. 1.]\n",
            " [1. 1. 1. 1.]\n",
            " [1. 1. 1. 1.]]\n",
            "[[33 33 33]\n",
            " [33 33 33]]\n",
            "[[1. 0. 0. 0.]\n",
            " [0. 1. 0. 0.]\n",
            " [0. 0. 1. 0.]\n",
            " [0. 0. 0. 1.]]\n",
            "[[0.54022669 0.11788345 0.07432315]\n",
            " [0.97978526 0.09068111 0.60444076]]\n"
          ],
          "name": "stdout"
        }
      ]
    },
    {
      "cell_type": "code",
      "metadata": {
        "id": "wBSbSQ02dCk-",
        "colab_type": "code",
        "colab": {
          "base_uri": "https://localhost:8080/",
          "height": 34
        },
        "outputId": "07708556-933c-49d8-80d4-5e9c2d7ed8f7"
      },
      "source": [
        "# condition for array\n",
        "arr = np.arange(10)\n",
        "out = np.where(arr < 5, arr, 10*arr)\n",
        "print(out)"
      ],
      "execution_count": 35,
      "outputs": [
        {
          "output_type": "stream",
          "text": [
            "[ 0  1  2  3  4 50 60 70 80 90]\n"
          ],
          "name": "stdout"
        }
      ]
    },
    {
      "cell_type": "code",
      "metadata": {
        "id": "kzeAUOXNdeB0",
        "colab_type": "code",
        "colab": {
          "base_uri": "https://localhost:8080/",
          "height": 70
        },
        "outputId": "b7e4911b-4409-4365-9872-ae3b7dfb4eab"
      },
      "source": [
        "# flat array to 1-D array\n",
        "arr = np.array([[4,5], [2,3]])\n",
        "out = arr.flatten()\n",
        "print(arr)\n",
        "print(out)"
      ],
      "execution_count": 36,
      "outputs": [
        {
          "output_type": "stream",
          "text": [
            "[[4 5]\n",
            " [2 3]]\n",
            "[4 5 2 3]\n"
          ],
          "name": "stdout"
        }
      ]
    },
    {
      "cell_type": "code",
      "metadata": {
        "id": "qVC_KvvHhAMD",
        "colab_type": "code",
        "colab": {
          "base_uri": "https://localhost:8080/",
          "height": 105
        },
        "outputId": "b7a6cf9a-55ba-4544-8086-49b36c16d472"
      },
      "source": [
        "# Slice 2D- array\n",
        "a_arr = np.array([[1,2,3],[4,5,6]])\n",
        "print(a_arr)\n",
        "print(\"-----------\")\n",
        "# Slice 2d array like 1d array\n",
        "b_arr = a_arr[:, 1:3]\n",
        "print(b_arr)\n"
      ],
      "execution_count": 38,
      "outputs": [
        {
          "output_type": "stream",
          "text": [
            "[[1 2 3]\n",
            " [4 5 6]]\n",
            "-----------\n",
            "[[2 3]\n",
            " [5 6]]\n"
          ],
          "name": "stdout"
        }
      ]
    },
    {
      "cell_type": "markdown",
      "metadata": {
        "id": "2Q0bEIsQiNLB",
        "colab_type": "text"
      },
      "source": [
        "![alt text](https://raw.githubusercontent.com/hxtruong/ai-vietnam-summer-2019/master/week_5/chap5_np_9.png)"
      ]
    },
    {
      "cell_type": "code",
      "metadata": {
        "id": "px-ctVd1iQI6",
        "colab_type": "code",
        "colab": {}
      },
      "source": [
        ""
      ],
      "execution_count": 0,
      "outputs": []
    }
  ]
}